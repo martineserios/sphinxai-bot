{
 "cells": [
  {
   "cell_type": "code",
   "execution_count": 37,
   "source": [
    "import json\n",
    "import pyrebase \n",
    "from urllib.parse import quote\n",
    "\n",
    "\n",
    "# Monkey patch pyrebase: replace quote function in pyrebase to workaround a bug.\n",
    "# See https://github.com/thisbejim/Pyrebase/issues/294.\n",
    "pyrebase.pyrebase.quote = lambda s, safe=None: s\n",
    "\n",
    "\n",
    "# Monkey patch pyrebase: the Storage.get_url method does need quoting :|\n",
    "def get_url(self, token=None):\n",
    "    path = self.path\n",
    "    self.path = None\n",
    "    if path.startswith('/'):\n",
    "        path = path[1:]\n",
    "    if token:\n",
    "        return \"{0}/o/{1}?alt=media&token={2}\".format(self.storage_bucket, quote(path, safe=''), token)\n",
    "    return \"{0}/o/{1}?alt=media\".format(self.storage_bucket, quote(path, safe=''))\n",
    "\n",
    "\n",
    "pyrebase.pyrebase.Storage.get_url = lambda self, token=None: \\\n",
    "    get_url(self, token)"
   ],
   "outputs": [],
   "metadata": {}
  },
  {
   "cell_type": "code",
   "execution_count": 38,
   "source": [
    "# firebase config\n",
    "with open(\"fb_config.json\") as jsonfile:\n",
    "    # `json.loads` parses a string in json format\n",
    "    config_info = json.load(jsonfile)\n",
    "    FB_CONFIG = config_info['FB_CONFIG']\n",
    "\n",
    "\n",
    "# firebase init\n",
    "firebase = pyrebase.initialize_app(FB_CONFIG)\n",
    "storage = firebase.storage()\n",
    "auth = firebase.auth()\n",
    "db = firebase.database()\n"
   ],
   "outputs": [],
   "metadata": {}
  },
  {
   "cell_type": "code",
   "execution_count": 39,
   "source": [
    "with open(\"db.json\") as jsonfile:\n",
    "    # `json.loads` parses a string in json format\n",
    "    config_info = json.load(jsonfile)\n",
    "    tests = config_info['tests']\n",
    "    tests_meta = config_info['tests_meta']    "
   ],
   "outputs": [],
   "metadata": {}
  },
  {
   "cell_type": "code",
   "execution_count": 6,
   "source": [
    "tests_meta"
   ],
   "outputs": [
    {
     "output_type": "execute_result",
     "data": {
      "text/plain": [
       "{'1': {'test_id': 'acbd14e370c0452a82f88e5104c92dba',\n",
       "  'video_file_name': 'V_20210512_162548_vHDR_On_N0.mp4',\n",
       "  'datetime': '25/05/2021 11:41:01',\n",
       "  'fps': 29.79599938911539,\n",
       "  'athlete': 'MarinaBulbarella',\n",
       "  'blink_threshold': 3.5,\n",
       "  'bf_timestep': 10}}"
      ]
     },
     "metadata": {},
     "execution_count": 6
    }
   ],
   "metadata": {}
  },
  {
   "cell_type": "code",
   "execution_count": 18,
   "source": [
    "db.child(\"tests\").push(tests)\n"
   ],
   "outputs": [
    {
     "output_type": "execute_result",
     "data": {
      "text/plain": [
       "{'name': '-Ma_cRXMO8FOBxMpATmD'}"
      ]
     },
     "metadata": {},
     "execution_count": 18
    }
   ],
   "metadata": {}
  },
  {
   "cell_type": "code",
   "execution_count": 19,
   "source": [
    "db.child(\"tests_meta\").push(tests_meta)\n",
    "db.child(\"tests_meta\").child(\"Morty\").set(tests_meta)"
   ],
   "outputs": [
    {
     "output_type": "execute_result",
     "data": {
      "text/plain": [
       "{'name': '-Ma_cSiZ_HygZyzBBxgd'}"
      ]
     },
     "metadata": {},
     "execution_count": 19
    }
   ],
   "metadata": {}
  },
  {
   "cell_type": "code",
   "execution_count": 1,
   "source": [
    "import firebase_admin\n",
    "from firebase_admin import credentials, firestore\n",
    "# initialize sdk\n",
    "cred = credentials.Certificate(\"serviceAccountKey.json\")\n",
    "firebase_admin.initialize_app(cred)\n",
    "# initialize firestore instance\n",
    "firestore_db = firestore.client()"
   ],
   "outputs": [],
   "metadata": {}
  },
  {
   "cell_type": "code",
   "execution_count": 17,
   "source": [
    "# add data\n",
    "firestore_db.collection(u'tests_meta').add(tests_meta)"
   ],
   "outputs": [
    {
     "output_type": "execute_result",
     "data": {
      "text/plain": [
       "(DatetimeWithNanoseconds(2021, 5, 26, 0, 1, 36, 439096, tzinfo=datetime.timezone.utc),\n",
       " <google.cloud.firestore_v1.document.DocumentReference at 0x7fe391c74e20>)"
      ]
     },
     "metadata": {},
     "execution_count": 17
    }
   ],
   "metadata": {}
  },
  {
   "cell_type": "code",
   "execution_count": 16,
   "source": [
    "# read data\n",
    "tests = list(firestore_db.collection(u'tests_meta').get())\n",
    "for test in tests:\n",
    "    print(test.to_dict())"
   ],
   "outputs": [
    {
     "output_type": "stream",
     "name": "stdout",
     "text": [
      "{'1': {'video_file_name': 'V_20210512_162548_vHDR_On_N0.mp4', 'datetime': '25/05/2021 11:41:01', 'blink_threshold': 3.5, 'test_id': 'acbd14e370c0452a82f88e5104c92dba', 'athlete': 'MarinaBulbarella', 'bf_timestep': 10, 'fps': 29.79599938911539}}\n"
     ]
    }
   ],
   "metadata": {}
  },
  {
   "cell_type": "code",
   "execution_count": 77,
   "source": [
    "metrics = db.child('1-baN5lUPSQnLS3NdHV86EYFlrn_FZkyvjIfalsTmrdM').order_by_child(\"FECHA\").child('MARINA').get()\n",
    "#.child('leo mayer').get()\n",
    "\n",
    "# metrics_dict = {}\n",
    "# for metric in metrics.each():\n",
    "#     metrics_dict[metric.key()]= metric.val()\n",
    "\n",
    "# metrics_dict\n",
    "\n",
    "# sorted([datetime.strptime(j['FECHA'], '%d-%m-%y') for i, j in enumerate(metrics.val())], )\n",
    "key_value = [j for j in metrics.val()]\n",
    "a = sorted(key_value, key = lambda x:x['FECHA'], reverse=True)\n",
    "\n",
    "[i[\"ELO\"] for i in a]\n",
    "# key_value.keys()\n",
    "# data = sorted([i['FECHA'] for i in metrics.val()])\n",
    "# key_value.items()\n",
    "# # elo = data['ELO']\n",
    "# elo\n",
    "\n",
    "# data\n",
    "# metrics.val()"
   ],
   "outputs": [
    {
     "output_type": "execute_result",
     "data": {
      "text/plain": [
       "['67', '45', '131', '34', '91', '200', '234']"
      ]
     },
     "metadata": {},
     "execution_count": 77
    }
   ],
   "metadata": {}
  },
  {
   "cell_type": "code",
   "execution_count": 87,
   "source": [
    "    map_values = {\n",
    "        \"0\": u\"\\U0001F7E2\", #green\n",
    "        \"1\": u'\\U0001F7E2',\n",
    "        \"2\": u'\\U0001F7E2',\n",
    "        \"3\": u'\\U0001F7E1', #yellow\n",
    "        \"4\": u'\\U0001F7E1',\n",
    "        \"5\": u'\\U0001F7E1',\n",
    "        \"6\": u'\\U0001F534', #red\n",
    "        \"7\": u'\\U0001F534',\n",
    "        \"8\": u'\\U0001F534',\n",
    "        \"9\": u'\\U0001F534'\t\n",
    "    }"
   ],
   "outputs": [],
   "metadata": {}
  },
  {
   "cell_type": "code",
   "execution_count": 118,
   "source": [
    "data = db.child('1-baN5lUPSQnLS3NdHV86EYFlrn_FZkyvjIfalsTmrdM').child('MARINA').get()\n",
    "\n",
    "_data = [j for j in data.val()]\n",
    "sorted_data = sorted(_data, key = lambda x: x['FECHA'], reverse=True)\n",
    "\n",
    "\n",
    "cuadrantes = [\"a1\", \"a2\", \"a3\", \"b1\", \"b2\", \"b3\", \"c1\", \"c2\", \"c3\"]\n",
    "\n",
    "initial_string = 'resistencia_ocular_pestaneo_x_cuadrante'\n",
    "\n",
    "map(lambda x,y: zip(x,y), [{cuadrante: test[f'{initial_string}_{cuadrante}'] for cuadrante in cuadrantes} for test in sorted_data])"
   ],
   "outputs": [
    {
     "output_type": "error",
     "ename": "TypeError",
     "evalue": "<lambda>() missing 1 required positional argument: 'y'",
     "traceback": [
      "\u001b[0;31m---------------------------------------------------------------------------\u001b[0m",
      "\u001b[0;31mTypeError\u001b[0m                                 Traceback (most recent call last)",
      "\u001b[0;32m/tmp/ipykernel_11400/1810044139.py\u001b[0m in \u001b[0;36m<module>\u001b[0;34m\u001b[0m\n\u001b[1;32m      9\u001b[0m \u001b[0minitial_string\u001b[0m \u001b[0;34m=\u001b[0m \u001b[0;34m'resistencia_ocular_pestaneo_x_cuadrante'\u001b[0m\u001b[0;34m\u001b[0m\u001b[0;34m\u001b[0m\u001b[0m\n\u001b[1;32m     10\u001b[0m \u001b[0;34m\u001b[0m\u001b[0m\n\u001b[0;32m---> 11\u001b[0;31m \u001b[0mlist\u001b[0m\u001b[0;34m(\u001b[0m\u001b[0mmap\u001b[0m\u001b[0;34m(\u001b[0m\u001b[0;32mlambda\u001b[0m \u001b[0mx\u001b[0m\u001b[0;34m,\u001b[0m\u001b[0my\u001b[0m\u001b[0;34m:\u001b[0m \u001b[0mzip\u001b[0m\u001b[0;34m(\u001b[0m\u001b[0mx\u001b[0m\u001b[0;34m,\u001b[0m\u001b[0my\u001b[0m\u001b[0;34m)\u001b[0m\u001b[0;34m,\u001b[0m \u001b[0;34m[\u001b[0m\u001b[0;34m{\u001b[0m\u001b[0mcuadrante\u001b[0m\u001b[0;34m:\u001b[0m \u001b[0mtest\u001b[0m\u001b[0;34m[\u001b[0m\u001b[0;34mf'{initial_string}_{cuadrante}'\u001b[0m\u001b[0;34m]\u001b[0m \u001b[0;32mfor\u001b[0m \u001b[0mcuadrante\u001b[0m \u001b[0;32min\u001b[0m \u001b[0mcuadrantes\u001b[0m\u001b[0;34m}\u001b[0m \u001b[0;32mfor\u001b[0m \u001b[0mtest\u001b[0m \u001b[0;32min\u001b[0m \u001b[0msorted_data\u001b[0m\u001b[0;34m]\u001b[0m\u001b[0;34m)\u001b[0m\u001b[0;34m)\u001b[0m\u001b[0;34m\u001b[0m\u001b[0;34m\u001b[0m\u001b[0m\n\u001b[0m",
      "\u001b[0;31mTypeError\u001b[0m: <lambda>() missing 1 required positional argument: 'y'"
     ]
    }
   ],
   "metadata": {}
  },
  {
   "cell_type": "code",
   "execution_count": 7,
   "source": [
    "a = db.child('1-baN5lUPSQnLS3NdHV86EYFlrn_FZkyvjIfalsTmrdM').child('LOS ANDES').order_by_child('POSICION').get()\n",
    "\n",
    "posiciones = set(val for sublist in [j['POSICION'].split(', ') for i,j in metric.val().items()] for val in sublist)\n",
    "\n",
    "[i for i,j in db.child('1-baN5lUPSQnLS3NdHV86EYFlrn_FZkyvjIfalsTmrdM').child('LOS ANDES').order_by_child('POSICION').equal_to('arquero').get().val().items()]"
   ],
   "outputs": [
    {
     "output_type": "error",
     "ename": "NameError",
     "evalue": "name 'metric' is not defined",
     "traceback": [
      "\u001b[0;31m---------------------------------------------------------------------------\u001b[0m",
      "\u001b[0;31mNameError\u001b[0m                                 Traceback (most recent call last)",
      "\u001b[0;32m<ipython-input-7-539bc564a3a4>\u001b[0m in \u001b[0;36m<module>\u001b[0;34m\u001b[0m\n\u001b[1;32m      1\u001b[0m \u001b[0ma\u001b[0m \u001b[0;34m=\u001b[0m \u001b[0mdb\u001b[0m\u001b[0;34m.\u001b[0m\u001b[0mchild\u001b[0m\u001b[0;34m(\u001b[0m\u001b[0;34m'1-baN5lUPSQnLS3NdHV86EYFlrn_FZkyvjIfalsTmrdM'\u001b[0m\u001b[0;34m)\u001b[0m\u001b[0;34m.\u001b[0m\u001b[0mchild\u001b[0m\u001b[0;34m(\u001b[0m\u001b[0;34m'LOS ANDES'\u001b[0m\u001b[0;34m)\u001b[0m\u001b[0;34m.\u001b[0m\u001b[0morder_by_child\u001b[0m\u001b[0;34m(\u001b[0m\u001b[0;34m'POSICION'\u001b[0m\u001b[0;34m)\u001b[0m\u001b[0;34m.\u001b[0m\u001b[0mget\u001b[0m\u001b[0;34m(\u001b[0m\u001b[0;34m)\u001b[0m\u001b[0;34m\u001b[0m\u001b[0;34m\u001b[0m\u001b[0m\n\u001b[1;32m      2\u001b[0m \u001b[0;34m\u001b[0m\u001b[0m\n\u001b[0;32m----> 3\u001b[0;31m \u001b[0mposiciones\u001b[0m \u001b[0;34m=\u001b[0m \u001b[0mset\u001b[0m\u001b[0;34m(\u001b[0m\u001b[0mval\u001b[0m \u001b[0;32mfor\u001b[0m \u001b[0msublist\u001b[0m \u001b[0;32min\u001b[0m \u001b[0;34m[\u001b[0m\u001b[0mj\u001b[0m\u001b[0;34m[\u001b[0m\u001b[0;34m'POSICION'\u001b[0m\u001b[0;34m]\u001b[0m\u001b[0;34m.\u001b[0m\u001b[0msplit\u001b[0m\u001b[0;34m(\u001b[0m\u001b[0;34m', '\u001b[0m\u001b[0;34m)\u001b[0m \u001b[0;32mfor\u001b[0m \u001b[0mi\u001b[0m\u001b[0;34m,\u001b[0m\u001b[0mj\u001b[0m \u001b[0;32min\u001b[0m \u001b[0mmetric\u001b[0m\u001b[0;34m.\u001b[0m\u001b[0mval\u001b[0m\u001b[0;34m(\u001b[0m\u001b[0;34m)\u001b[0m\u001b[0;34m.\u001b[0m\u001b[0mitems\u001b[0m\u001b[0;34m(\u001b[0m\u001b[0;34m)\u001b[0m\u001b[0;34m]\u001b[0m \u001b[0;32mfor\u001b[0m \u001b[0mval\u001b[0m \u001b[0;32min\u001b[0m \u001b[0msublist\u001b[0m\u001b[0;34m)\u001b[0m\u001b[0;34m\u001b[0m\u001b[0;34m\u001b[0m\u001b[0m\n\u001b[0m\u001b[1;32m      4\u001b[0m \u001b[0;34m\u001b[0m\u001b[0m\n\u001b[1;32m      5\u001b[0m \u001b[0;34m[\u001b[0m\u001b[0mi\u001b[0m \u001b[0;32mfor\u001b[0m \u001b[0mi\u001b[0m\u001b[0;34m,\u001b[0m\u001b[0mj\u001b[0m \u001b[0;32min\u001b[0m \u001b[0mdb\u001b[0m\u001b[0;34m.\u001b[0m\u001b[0mchild\u001b[0m\u001b[0;34m(\u001b[0m\u001b[0;34m'1-baN5lUPSQnLS3NdHV86EYFlrn_FZkyvjIfalsTmrdM'\u001b[0m\u001b[0;34m)\u001b[0m\u001b[0;34m.\u001b[0m\u001b[0mchild\u001b[0m\u001b[0;34m(\u001b[0m\u001b[0;34m'LOS ANDES'\u001b[0m\u001b[0;34m)\u001b[0m\u001b[0;34m.\u001b[0m\u001b[0morder_by_child\u001b[0m\u001b[0;34m(\u001b[0m\u001b[0;34m'POSICION'\u001b[0m\u001b[0;34m)\u001b[0m\u001b[0;34m.\u001b[0m\u001b[0mequal_to\u001b[0m\u001b[0;34m(\u001b[0m\u001b[0;34m'arquero'\u001b[0m\u001b[0;34m)\u001b[0m\u001b[0;34m.\u001b[0m\u001b[0mget\u001b[0m\u001b[0;34m(\u001b[0m\u001b[0;34m)\u001b[0m\u001b[0;34m.\u001b[0m\u001b[0mval\u001b[0m\u001b[0;34m(\u001b[0m\u001b[0;34m)\u001b[0m\u001b[0;34m.\u001b[0m\u001b[0mitems\u001b[0m\u001b[0;34m(\u001b[0m\u001b[0;34m)\u001b[0m\u001b[0;34m]\u001b[0m\u001b[0;34m\u001b[0m\u001b[0;34m\u001b[0m\u001b[0m\n",
      "\u001b[0;31mNameError\u001b[0m: name 'metric' is not defined"
     ]
    }
   ],
   "metadata": {}
  },
  {
   "cell_type": "code",
   "execution_count": 140,
   "source": [
    "arqueros = [item for item in a[1:] if 'arquero' in item['posicion']]\n",
    "arqueros\n",
    "# lopez[0]['FECHA de evaluación'][:10]"
   ],
   "outputs": [
    {
     "output_type": "execute_result",
     "data": {
      "text/plain": [
       "[{'BB ': '',\n",
       "  'CADERA': 'D ',\n",
       "  'DEPORTE': 'futbol',\n",
       "  'DRIVE': '',\n",
       "  'ELO': 13,\n",
       "  'FECHA de evaluación': '2021-03-15T03:00:00.000Z',\n",
       "  'FOTO ': '',\n",
       "  'HC': '',\n",
       "  'HOMBRO': 'I ',\n",
       "  'ID': '00102F',\n",
       "  'NOMBRE': 'Leandro leonel, Brey',\n",
       "  'OTAC': 'D ',\n",
       "  'OTEC': 'I',\n",
       "  'OVERALL': '',\n",
       "  'PIE DE PATEO': 'D ',\n",
       "  'PIERNA DE APOYO ': 'I ',\n",
       "  'PIERNA DINAMICA': 'D ',\n",
       "  'TIPO TEST': 'EI',\n",
       "  'i': 1,\n",
       "  'posicion': 'arquero'},\n",
       " {'BB ': '',\n",
       "  'CADERA': 'D ',\n",
       "  'DEPORTE': 'futbol',\n",
       "  'DRIVE': '',\n",
       "  'ELO': 3,\n",
       "  'FECHA de evaluación': '2021-03-15T03:00:00.000Z',\n",
       "  'FOTO ': '',\n",
       "  'HC': '',\n",
       "  'HOMBRO': 'I ',\n",
       "  'ID': '00103F',\n",
       "  'NOMBRE': 'Martin Guillermo, Soria',\n",
       "  'OTAC': 'D ',\n",
       "  'OTEC': 'I',\n",
       "  'OVERALL': '',\n",
       "  'PIE DE PATEO': 'D ',\n",
       "  'PIERNA DE APOYO ': 'I ',\n",
       "  'PIERNA DINAMICA': 'D ',\n",
       "  'TIPO TEST': 'EI',\n",
       "  'i': 2,\n",
       "  'posicion': 'arquero'},\n",
       " {'BB ': '',\n",
       "  'CADERA': 'I ',\n",
       "  'DEPORTE': 'futbol',\n",
       "  'DRIVE': '',\n",
       "  'ELO': 41,\n",
       "  'FECHA de evaluación': '2021-03-15T03:00:00.000Z',\n",
       "  'FOTO ': '',\n",
       "  'HC': '',\n",
       "  'HOMBRO': 'I ',\n",
       "  'ID': '00104F',\n",
       "  'NOMBRE': 'Federico Leonardo, Diaz',\n",
       "  'OTAC': 'D ',\n",
       "  'OTEC': 'I',\n",
       "  'OVERALL': '',\n",
       "  'PIE DE PATEO': 'D ',\n",
       "  'PIERNA DE APOYO ': 'I ',\n",
       "  'PIERNA DINAMICA': 'D ',\n",
       "  'TIPO TEST': 'EI',\n",
       "  'i': 3,\n",
       "  'posicion': 'arquero'},\n",
       " {'BB ': '',\n",
       "  'CADERA': 'NS Lesion',\n",
       "  'DEPORTE': 'futbol',\n",
       "  'DRIVE': '',\n",
       "  'ELO': 3,\n",
       "  'FECHA de evaluación': '2021-03-15T03:00:00.000Z',\n",
       "  'FOTO ': '',\n",
       "  'HC': '',\n",
       "  'HOMBRO': 'D ',\n",
       "  'ID': '00105F',\n",
       "  'NOMBRE': 'Tomas agustin, Casas',\n",
       "  'OTAC': 'I ',\n",
       "  'OTEC': 'D ',\n",
       "  'OVERALL': '',\n",
       "  'PIE DE PATEO': 'D ',\n",
       "  'PIERNA DE APOYO ': 'I ',\n",
       "  'PIERNA DINAMICA': 'D ',\n",
       "  'TIPO TEST': 'EI',\n",
       "  'i': 4,\n",
       "  'posicion': 'arquero'},\n",
       " {'BB ': '',\n",
       "  'CADERA': 'I ',\n",
       "  'DEPORTE': 'futbol',\n",
       "  'DRIVE': '',\n",
       "  'ELO': 12,\n",
       "  'FECHA de evaluación': '2021-03-15T03:00:00.000Z',\n",
       "  'FOTO ': '',\n",
       "  'HC': '',\n",
       "  'HOMBRO': 'I ',\n",
       "  'ID': '00106F',\n",
       "  'NOMBRE': 'Gianfranco, Coronati',\n",
       "  'OTAC': 'I ',\n",
       "  'OTEC': 'D ',\n",
       "  'OVERALL': '',\n",
       "  'PIE DE PATEO': 'D ',\n",
       "  'PIERNA DE APOYO ': 'I ',\n",
       "  'PIERNA DINAMICA': 'D ',\n",
       "  'TIPO TEST': 'EI',\n",
       "  'i': 5,\n",
       "  'posicion': 'arquero'}]"
      ]
     },
     "metadata": {},
     "execution_count": 140
    }
   ],
   "metadata": {}
  },
  {
   "cell_type": "code",
   "execution_count": 136,
   "source": [
    "from datetime import datetime\n",
    "\n",
    "def str_to_dt(str):\n",
    "    datetime_object = datetime.strptime(str[:10], '%Y-%m-%d')\n",
    "    return datetime_object\n",
    "\n",
    "str_to_dt(lopez[0]['FECHA de evaluación'][:10])"
   ],
   "outputs": [
    {
     "output_type": "execute_result",
     "data": {
      "text/plain": [
       "datetime.datetime(2021, 3, 15, 0, 0)"
      ]
     },
     "metadata": {},
     "execution_count": 136
    }
   ],
   "metadata": {}
  },
  {
   "cell_type": "code",
   "execution_count": 137,
   "source": [
    "{'ELO': {item['FECHA de evaluación'][:10]: item['ELO'] for item in lopez}}"
   ],
   "outputs": [
    {
     "output_type": "execute_result",
     "data": {
      "text/plain": [
       "{'ELO': {'2021-03-15': 31, '2021-04-02': 8}}"
      ]
     },
     "metadata": {},
     "execution_count": 137
    }
   ],
   "metadata": {}
  },
  {
   "cell_type": "code",
   "execution_count": 96,
   "source": [
    "from dicttable import DictTable\n",
    "\n",
    "DB = DictTable(items)\n",
    "\n",
    "[i for i in DB.query(DB.Q.HOMBRRO=='D')]"
   ],
   "outputs": [
    {
     "output_type": "execute_result",
     "data": {
      "text/plain": [
       "[]"
      ]
     },
     "metadata": {},
     "execution_count": 96
    }
   ],
   "metadata": {}
  },
  {
   "cell_type": "code",
   "execution_count": null,
   "source": [],
   "outputs": [],
   "metadata": {}
  }
 ],
 "metadata": {
  "kernelspec": {
   "name": "python3",
   "display_name": "Python 3.7.10 64-bit"
  },
  "language_info": {
   "codemirror_mode": {
    "name": "ipython",
    "version": 3
   },
   "file_extension": ".py",
   "mimetype": "text/x-python",
   "name": "python",
   "nbconvert_exporter": "python",
   "pygments_lexer": "ipython3",
   "version": "3.7.10"
  },
  "metadata": {
   "interpreter": {
    "hash": "520fe95cd0cb1c4fdb35a780aea565cfab1da2093d3322f6b286f18142a71dd6"
   }
  },
  "interpreter": {
   "hash": "4cd7ab41f5fca4b9b44701077e38c5ffd31fe66a6cab21e0214b68d958d0e462"
  }
 },
 "nbformat": 4,
 "nbformat_minor": 2
}